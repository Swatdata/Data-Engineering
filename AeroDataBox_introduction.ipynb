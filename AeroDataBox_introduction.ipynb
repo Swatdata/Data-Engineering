{
  "cells": [
    {
      "cell_type": "markdown",
      "source": [
        "So far we've learnt how to scrape the web, and how to make a request for information from an API. Some websites make APIs even easier. Check out [RapidAPI](https://rapidapi.com/) they take care of writing most of the code for you.\n",
        "\n",
        "We will use the [AeroDataBox API](https://rapidapi.com/aedbx-aedbx/api/aerodatabox/), which can retrieve all sorts of information about flights and airports. We will show you how to retrieve information about the airports, and then it's up to you to apply this, along with what you've already learnt this week, to **produce a function, which retrieves tomorrows flight information for the major airports in the cities you web scapped**."
      ],
      "metadata": {
        "id": "Wu99MtE0j0za"
      }
    },
    {
      "cell_type": "code",
      "execution_count": null,
      "metadata": {
        "id": "lIYdn1woOS1n"
      },
      "outputs": [],
      "source": [
        "import pandas as pd\n",
        "import requests"
      ]
    },
    {
      "cell_type": "markdown",
      "source": [
        "On the left hand side of the AeroDataBox API page, you'll see a list of options for information that you can retrieve:\n",
        "> - Flights API\n",
        "- Subsciption / PUSH API\n",
        "- Airport API\n",
        "- Aircraft API\n",
        "- Healthcheck & Status API\n",
        "\n",
        "1. We want to select `Airport API`\n",
        "\n",
        "2. Then within Airport API we want to select `Search airports by location`\n",
        "\n",
        "3. Now in the middle third you'll want to enter the `latitude` and `longitude` of any city to test... we chose Berlin: latitude 52.31 longitude 13.24. Next we changed the `radiusKM` to only 50km. And finally set `withFlightInfoOnly` to true, so it will only return airports which have flight data (scheduled or live) available.\n",
        "\n",
        "4. On the right hand third of the screen you should see a block of code that looks pretty unfamiliar. This is because by default the code is probably set to *(Node.js) Axios*. However, we have the power to change this to familiar python. Select the dropdown box at the top of the code and select `python > requests`.\n",
        "\n",
        "Now you can copy the code to your notebook and it should look a little something like the cell below:"
      ],
      "metadata": {
        "id": "_xaphJ-ElsfW"
      }
    },
    {
      "cell_type": "code",
      "source": [
        "import requests\n",
        "\n",
        "url = \"https://aerodatabox.p.rapidapi.com/airports/search/location/52.31/13.24/km/50/16\"\n",
        "\n",
        "querystring = {\"withFlightInfoOnly\":\"true\"}\n",
        "\n",
        "headers = {\n",
        "\t\"X-RapidAPI-Key\": \"7fbdfa982amsh465aaeb96e8bac1p1d30aajsn775e582a0a36\",\n",
        "\t\"X-RapidAPI-Host\": \"aerodatabox.p.rapidapi.com\"\n",
        "}\n",
        "\n",
        "response = requests.request(\"GET\", url, headers=headers, params=querystring)\n",
        "\n",
        "print(response.text)"
      ],
      "metadata": {
        "id": "ZDlUQxEZicBS",
        "outputId": "59b76186-29e5-4607-f8f7-1b91ddb5d5d9",
        "colab": {
          "base_uri": "https://localhost:8080/"
        }
      },
      "execution_count": null,
      "outputs": [
        {
          "output_type": "stream",
          "name": "stdout",
          "text": [
            "{\"message\":\"You are not subscribed to this API.\"}\n"
          ]
        }
      ]
    },
    {
      "cell_type": "markdown",
      "source": [
        "Let's view the response as `.json()` instead of `.text` so that it's easier to read"
      ],
      "metadata": {
        "id": "yAI0OyJpopkG"
      }
    },
    {
      "cell_type": "code",
      "source": [
        "response.json()"
      ],
      "metadata": {
        "id": "iYctxSRWo22l",
        "outputId": "25dcf504-d419-4ce6-d8f0-16505740ae5d",
        "colab": {
          "base_uri": "https://localhost:8080/"
        }
      },
      "execution_count": null,
      "outputs": [
        {
          "output_type": "execute_result",
          "data": {
            "text/plain": [
              "{'message': 'You are not subscribed to this API.'}"
            ]
          },
          "metadata": {},
          "execution_count": 4
        }
      ]
    },
    {
      "cell_type": "markdown",
      "source": [
        "We can now turn this into a dataframe using `.json_normalize()`"
      ],
      "metadata": {
        "id": "mPPVXqoDpiJ0"
      }
    },
    {
      "cell_type": "code",
      "source": [
        "import requests#berlin\n",
        "\n",
        "url = \"https://aerodatabox.p.rapidapi.com/airports/search/location/52.31/13.24/km/50/16\"\n",
        "\n",
        "querystring = {\"withFlightInfoOnly\":\"true\"}\n",
        "\n",
        "headers = {\n",
        "\t\"X-RapidAPI-Key\": \"fede0c7146msh1bb3d4ba98e89a5p1df66ajsn5f7e89b742e5\",\n",
        "\t\"X-RapidAPI-Host\": \"aerodatabox.p.rapidapi.com\"\n",
        "}\n",
        "\n",
        "response = requests.request(\"GET\", url, headers=headers, params=querystring)\n",
        "\n",
        "print(response.text)"
      ],
      "metadata": {
        "colab": {
          "base_uri": "https://localhost:8080/"
        },
        "id": "6tDGsRCX-KWd",
        "outputId": "874ab33a-f9b4-4928-8a4e-de615a6a2e38"
      },
      "execution_count": null,
      "outputs": [
        {
          "output_type": "stream",
          "name": "stdout",
          "text": [
            "{\"items\":[{\"icao\":\"EDDB\",\"iata\":\"BER\",\"name\":\"Berlin, Berlin Brandenburg\",\"shortName\":\"Brandenburg\",\"municipalityName\":\"Berlin\",\"location\":{\"lat\":52.35139,\"lon\":13.493889},\"countryCode\":\"DE\"},{\"icao\":\"EDDT\",\"iata\":\"TXL\",\"name\":\"Berlin, Berlin-Tegel\",\"shortName\":\"-Tegel\",\"municipalityName\":\"Berlin\",\"location\":{\"lat\":52.5597,\"lon\":13.287699},\"countryCode\":\"DE\"}]}\n"
          ]
        }
      ]
    },
    {
      "cell_type": "code",
      "source": [
        "pd.json_normalize(response.json()['items'])"
      ],
      "metadata": {
        "id": "L8l3G1wRpESW",
        "outputId": "5e97d8d4-2a30-4e15-e7c7-86207444e9a0",
        "colab": {
          "base_uri": "https://localhost:8080/",
          "height": 156
        }
      },
      "execution_count": null,
      "outputs": [
        {
          "output_type": "execute_result",
          "data": {
            "text/plain": [
              "   icao iata                        name    shortName municipalityName  \\\n",
              "0  EDDB  BER  Berlin, Berlin Brandenburg  Brandenburg           Berlin   \n",
              "1  EDDT  TXL        Berlin, Berlin-Tegel       -Tegel           Berlin   \n",
              "\n",
              "  countryCode  location.lat  location.lon  \n",
              "0          DE      52.35139     13.493889  \n",
              "1          DE      52.55970     13.287699  "
            ],
            "text/html": [
              "\n",
              "  <div id=\"df-fd7109f9-bd29-44a6-a9b8-794040117f10\">\n",
              "    <div class=\"colab-df-container\">\n",
              "      <div>\n",
              "<style scoped>\n",
              "    .dataframe tbody tr th:only-of-type {\n",
              "        vertical-align: middle;\n",
              "    }\n",
              "\n",
              "    .dataframe tbody tr th {\n",
              "        vertical-align: top;\n",
              "    }\n",
              "\n",
              "    .dataframe thead th {\n",
              "        text-align: right;\n",
              "    }\n",
              "</style>\n",
              "<table border=\"1\" class=\"dataframe\">\n",
              "  <thead>\n",
              "    <tr style=\"text-align: right;\">\n",
              "      <th></th>\n",
              "      <th>icao</th>\n",
              "      <th>iata</th>\n",
              "      <th>name</th>\n",
              "      <th>shortName</th>\n",
              "      <th>municipalityName</th>\n",
              "      <th>countryCode</th>\n",
              "      <th>location.lat</th>\n",
              "      <th>location.lon</th>\n",
              "    </tr>\n",
              "  </thead>\n",
              "  <tbody>\n",
              "    <tr>\n",
              "      <th>0</th>\n",
              "      <td>EDDB</td>\n",
              "      <td>BER</td>\n",
              "      <td>Berlin, Berlin Brandenburg</td>\n",
              "      <td>Brandenburg</td>\n",
              "      <td>Berlin</td>\n",
              "      <td>DE</td>\n",
              "      <td>52.35139</td>\n",
              "      <td>13.493889</td>\n",
              "    </tr>\n",
              "    <tr>\n",
              "      <th>1</th>\n",
              "      <td>EDDT</td>\n",
              "      <td>TXL</td>\n",
              "      <td>Berlin, Berlin-Tegel</td>\n",
              "      <td>-Tegel</td>\n",
              "      <td>Berlin</td>\n",
              "      <td>DE</td>\n",
              "      <td>52.55970</td>\n",
              "      <td>13.287699</td>\n",
              "    </tr>\n",
              "  </tbody>\n",
              "</table>\n",
              "</div>\n",
              "      <button class=\"colab-df-convert\" onclick=\"convertToInteractive('df-fd7109f9-bd29-44a6-a9b8-794040117f10')\"\n",
              "              title=\"Convert this dataframe to an interactive table.\"\n",
              "              style=\"display:none;\">\n",
              "        \n",
              "  <svg xmlns=\"http://www.w3.org/2000/svg\" height=\"24px\"viewBox=\"0 0 24 24\"\n",
              "       width=\"24px\">\n",
              "    <path d=\"M0 0h24v24H0V0z\" fill=\"none\"/>\n",
              "    <path d=\"M18.56 5.44l.94 2.06.94-2.06 2.06-.94-2.06-.94-.94-2.06-.94 2.06-2.06.94zm-11 1L8.5 8.5l.94-2.06 2.06-.94-2.06-.94L8.5 2.5l-.94 2.06-2.06.94zm10 10l.94 2.06.94-2.06 2.06-.94-2.06-.94-.94-2.06-.94 2.06-2.06.94z\"/><path d=\"M17.41 7.96l-1.37-1.37c-.4-.4-.92-.59-1.43-.59-.52 0-1.04.2-1.43.59L10.3 9.45l-7.72 7.72c-.78.78-.78 2.05 0 2.83L4 21.41c.39.39.9.59 1.41.59.51 0 1.02-.2 1.41-.59l7.78-7.78 2.81-2.81c.8-.78.8-2.07 0-2.86zM5.41 20L4 18.59l7.72-7.72 1.47 1.35L5.41 20z\"/>\n",
              "  </svg>\n",
              "      </button>\n",
              "      \n",
              "  <style>\n",
              "    .colab-df-container {\n",
              "      display:flex;\n",
              "      flex-wrap:wrap;\n",
              "      gap: 12px;\n",
              "    }\n",
              "\n",
              "    .colab-df-convert {\n",
              "      background-color: #E8F0FE;\n",
              "      border: none;\n",
              "      border-radius: 50%;\n",
              "      cursor: pointer;\n",
              "      display: none;\n",
              "      fill: #1967D2;\n",
              "      height: 32px;\n",
              "      padding: 0 0 0 0;\n",
              "      width: 32px;\n",
              "    }\n",
              "\n",
              "    .colab-df-convert:hover {\n",
              "      background-color: #E2EBFA;\n",
              "      box-shadow: 0px 1px 2px rgba(60, 64, 67, 0.3), 0px 1px 3px 1px rgba(60, 64, 67, 0.15);\n",
              "      fill: #174EA6;\n",
              "    }\n",
              "\n",
              "    [theme=dark] .colab-df-convert {\n",
              "      background-color: #3B4455;\n",
              "      fill: #D2E3FC;\n",
              "    }\n",
              "\n",
              "    [theme=dark] .colab-df-convert:hover {\n",
              "      background-color: #434B5C;\n",
              "      box-shadow: 0px 1px 3px 1px rgba(0, 0, 0, 0.15);\n",
              "      filter: drop-shadow(0px 1px 2px rgba(0, 0, 0, 0.3));\n",
              "      fill: #FFFFFF;\n",
              "    }\n",
              "  </style>\n",
              "\n",
              "      <script>\n",
              "        const buttonEl =\n",
              "          document.querySelector('#df-fd7109f9-bd29-44a6-a9b8-794040117f10 button.colab-df-convert');\n",
              "        buttonEl.style.display =\n",
              "          google.colab.kernel.accessAllowed ? 'block' : 'none';\n",
              "\n",
              "        async function convertToInteractive(key) {\n",
              "          const element = document.querySelector('#df-fd7109f9-bd29-44a6-a9b8-794040117f10');\n",
              "          const dataTable =\n",
              "            await google.colab.kernel.invokeFunction('convertToInteractive',\n",
              "                                                     [key], {});\n",
              "          if (!dataTable) return;\n",
              "\n",
              "          const docLinkHtml = 'Like what you see? Visit the ' +\n",
              "            '<a target=\"_blank\" href=https://colab.research.google.com/notebooks/data_table.ipynb>data table notebook</a>'\n",
              "            + ' to learn more about interactive tables.';\n",
              "          element.innerHTML = '';\n",
              "          dataTable['output_type'] = 'display_data';\n",
              "          await google.colab.output.renderOutput(dataTable, element);\n",
              "          const docLink = document.createElement('div');\n",
              "          docLink.innerHTML = docLinkHtml;\n",
              "          element.appendChild(docLink);\n",
              "        }\n",
              "      </script>\n",
              "    </div>\n",
              "  </div>\n",
              "  "
            ]
          },
          "metadata": {},
          "execution_count": 7
        }
      ]
    },
    {
      "cell_type": "code",
      "source": [
        "import requests\n",
        "\n",
        "url = \"https://aerodatabox.p.rapidapi.com/airports/search/location/53.33/10/km/50/16\"\n",
        "\n",
        "querystring = {\"withFlightInfoOnly\":\"true\"}\n",
        "\n",
        "headers = {\n",
        "\t\"X-RapidAPI-Key\": \"fede0c7146msh1bb3d4ba98e89a5p1df66ajsn5f7e89b742e5\",\n",
        "\t\"X-RapidAPI-Host\": \"aerodatabox.p.rapidapi.com\"\n",
        "}\n",
        "\n",
        "response = requests.request(\"GET\", url, headers=headers, params=querystring)\n",
        "\n",
        "print(response.text)"
      ],
      "metadata": {
        "colab": {
          "base_uri": "https://localhost:8080/"
        },
        "id": "FEQiwDDS20A1",
        "outputId": "7ed96c27-eaf9-49bd-b907-780ae4d93c4c"
      },
      "execution_count": null,
      "outputs": [
        {
          "output_type": "stream",
          "name": "stdout",
          "text": [
            "{\"items\":[{\"icao\":\"EDDH\",\"iata\":\"HAM\",\"name\":\"Hamburg\",\"shortName\":\"Hamburg\",\"municipalityName\":\"Hamburg\",\"location\":{\"lat\":53.6304,\"lon\":9.988229},\"countryCode\":\"DE\"}]}\n"
          ]
        }
      ]
    },
    {
      "cell_type": "code",
      "source": [
        "pd.json_normalize(response.json()['items'])"
      ],
      "metadata": {
        "colab": {
          "base_uri": "https://localhost:8080/",
          "height": 81
        },
        "id": "gQHv7l413Iyk",
        "outputId": "66eb49a5-0a1e-47ac-c47f-31ce022aec6a"
      },
      "execution_count": null,
      "outputs": [
        {
          "output_type": "execute_result",
          "data": {
            "text/plain": [
              "   icao iata     name shortName municipalityName countryCode  location.lat  \\\n",
              "0  EDDH  HAM  Hamburg   Hamburg          Hamburg          DE       53.6304   \n",
              "\n",
              "   location.lon  \n",
              "0      9.988229  "
            ],
            "text/html": [
              "\n",
              "  <div id=\"df-df8cadfc-d216-40e2-81a9-28f84226bd77\">\n",
              "    <div class=\"colab-df-container\">\n",
              "      <div>\n",
              "<style scoped>\n",
              "    .dataframe tbody tr th:only-of-type {\n",
              "        vertical-align: middle;\n",
              "    }\n",
              "\n",
              "    .dataframe tbody tr th {\n",
              "        vertical-align: top;\n",
              "    }\n",
              "\n",
              "    .dataframe thead th {\n",
              "        text-align: right;\n",
              "    }\n",
              "</style>\n",
              "<table border=\"1\" class=\"dataframe\">\n",
              "  <thead>\n",
              "    <tr style=\"text-align: right;\">\n",
              "      <th></th>\n",
              "      <th>icao</th>\n",
              "      <th>iata</th>\n",
              "      <th>name</th>\n",
              "      <th>shortName</th>\n",
              "      <th>municipalityName</th>\n",
              "      <th>countryCode</th>\n",
              "      <th>location.lat</th>\n",
              "      <th>location.lon</th>\n",
              "    </tr>\n",
              "  </thead>\n",
              "  <tbody>\n",
              "    <tr>\n",
              "      <th>0</th>\n",
              "      <td>EDDH</td>\n",
              "      <td>HAM</td>\n",
              "      <td>Hamburg</td>\n",
              "      <td>Hamburg</td>\n",
              "      <td>Hamburg</td>\n",
              "      <td>DE</td>\n",
              "      <td>53.6304</td>\n",
              "      <td>9.988229</td>\n",
              "    </tr>\n",
              "  </tbody>\n",
              "</table>\n",
              "</div>\n",
              "      <button class=\"colab-df-convert\" onclick=\"convertToInteractive('df-df8cadfc-d216-40e2-81a9-28f84226bd77')\"\n",
              "              title=\"Convert this dataframe to an interactive table.\"\n",
              "              style=\"display:none;\">\n",
              "        \n",
              "  <svg xmlns=\"http://www.w3.org/2000/svg\" height=\"24px\"viewBox=\"0 0 24 24\"\n",
              "       width=\"24px\">\n",
              "    <path d=\"M0 0h24v24H0V0z\" fill=\"none\"/>\n",
              "    <path d=\"M18.56 5.44l.94 2.06.94-2.06 2.06-.94-2.06-.94-.94-2.06-.94 2.06-2.06.94zm-11 1L8.5 8.5l.94-2.06 2.06-.94-2.06-.94L8.5 2.5l-.94 2.06-2.06.94zm10 10l.94 2.06.94-2.06 2.06-.94-2.06-.94-.94-2.06-.94 2.06-2.06.94z\"/><path d=\"M17.41 7.96l-1.37-1.37c-.4-.4-.92-.59-1.43-.59-.52 0-1.04.2-1.43.59L10.3 9.45l-7.72 7.72c-.78.78-.78 2.05 0 2.83L4 21.41c.39.39.9.59 1.41.59.51 0 1.02-.2 1.41-.59l7.78-7.78 2.81-2.81c.8-.78.8-2.07 0-2.86zM5.41 20L4 18.59l7.72-7.72 1.47 1.35L5.41 20z\"/>\n",
              "  </svg>\n",
              "      </button>\n",
              "      \n",
              "  <style>\n",
              "    .colab-df-container {\n",
              "      display:flex;\n",
              "      flex-wrap:wrap;\n",
              "      gap: 12px;\n",
              "    }\n",
              "\n",
              "    .colab-df-convert {\n",
              "      background-color: #E8F0FE;\n",
              "      border: none;\n",
              "      border-radius: 50%;\n",
              "      cursor: pointer;\n",
              "      display: none;\n",
              "      fill: #1967D2;\n",
              "      height: 32px;\n",
              "      padding: 0 0 0 0;\n",
              "      width: 32px;\n",
              "    }\n",
              "\n",
              "    .colab-df-convert:hover {\n",
              "      background-color: #E2EBFA;\n",
              "      box-shadow: 0px 1px 2px rgba(60, 64, 67, 0.3), 0px 1px 3px 1px rgba(60, 64, 67, 0.15);\n",
              "      fill: #174EA6;\n",
              "    }\n",
              "\n",
              "    [theme=dark] .colab-df-convert {\n",
              "      background-color: #3B4455;\n",
              "      fill: #D2E3FC;\n",
              "    }\n",
              "\n",
              "    [theme=dark] .colab-df-convert:hover {\n",
              "      background-color: #434B5C;\n",
              "      box-shadow: 0px 1px 3px 1px rgba(0, 0, 0, 0.15);\n",
              "      filter: drop-shadow(0px 1px 2px rgba(0, 0, 0, 0.3));\n",
              "      fill: #FFFFFF;\n",
              "    }\n",
              "  </style>\n",
              "\n",
              "      <script>\n",
              "        const buttonEl =\n",
              "          document.querySelector('#df-df8cadfc-d216-40e2-81a9-28f84226bd77 button.colab-df-convert');\n",
              "        buttonEl.style.display =\n",
              "          google.colab.kernel.accessAllowed ? 'block' : 'none';\n",
              "\n",
              "        async function convertToInteractive(key) {\n",
              "          const element = document.querySelector('#df-df8cadfc-d216-40e2-81a9-28f84226bd77');\n",
              "          const dataTable =\n",
              "            await google.colab.kernel.invokeFunction('convertToInteractive',\n",
              "                                                     [key], {});\n",
              "          if (!dataTable) return;\n",
              "\n",
              "          const docLinkHtml = 'Like what you see? Visit the ' +\n",
              "            '<a target=\"_blank\" href=https://colab.research.google.com/notebooks/data_table.ipynb>data table notebook</a>'\n",
              "            + ' to learn more about interactive tables.';\n",
              "          element.innerHTML = '';\n",
              "          dataTable['output_type'] = 'display_data';\n",
              "          await google.colab.output.renderOutput(dataTable, element);\n",
              "          const docLink = document.createElement('div');\n",
              "          docLink.innerHTML = docLinkHtml;\n",
              "          element.appendChild(docLink);\n",
              "        }\n",
              "      </script>\n",
              "    </div>\n",
              "  </div>\n",
              "  "
            ]
          },
          "metadata": {},
          "execution_count": 11
        }
      ]
    },
    {
      "cell_type": "markdown",
      "source": [
        "Let's now use this for the latitude and longitude of multiple cities"
      ],
      "metadata": {
        "id": "Q47nbbH0I3Xt"
      }
    },
    {
      "cell_type": "code",
      "source": [
        "def icao_airport_codes(latitudes, longitudes):\n",
        "\n",
        "  #assert len(latitudes) == len(longitudes)\n",
        "  \n",
        "  list_for_df = []\n",
        "\n",
        "  for i in range(len(latitudes)):\n",
        "\n",
        "    url = f\"https://aerodatabox.p.rapidapi.com/airports/search/location/{latitudes[i]}/{longitudes[i]}/km/100/16\"\n",
        "\n",
        "    querystring = {\"withFlightInfoOnly\":\"true\"}\n",
        "\n",
        "    headers = {\n",
        "      \"X-RapidAPI-Host\": \"aerodatabox.p.rapidapi.com\",\n",
        "      \"X-RapidAPI-Key\": \"YOUR_API_KEY_HERE\"\n",
        "    }\n",
        "\n",
        "    response = requests.request(\"GET\", url, headers=headers, params=querystring)\n",
        "\n",
        "    list_for_df.append(pd.json_normalize(response.json()['items']))\n",
        "\n",
        "  return pd.concat(list_for_df, ignore_index=True)"
      ],
      "metadata": {
        "id": "q0VCPFOmH3vl"
      },
      "execution_count": null,
      "outputs": []
    },
    {
      "cell_type": "markdown",
      "source": [
        "###### **Challenge 1:** Icao codes\n",
        "If you use the above for all of your cities, you can create a DataFrame of all the airports and their associated `icao` codes. Perfect for a relational database.\n",
        "\n",
        "###### **Challenge 2:** Arrivals information\n",
        "Using what you have been shown above, plus the skills you've learnt in the last couple of days:\n",
        "1. In `AeroDataBox API` use the `Flight API` > `FIDS/Schedules: Airport departures and arrivals by airport ICAO code` section\n",
        "2. Fill out the parameters in the middle third and then copy the `python: requests` code from the right hand third\n",
        "3. Explore the data you get back. What would be useful in your DataFrame and what can be excluded? Remember Gans wants to know about when people are arriving in the city\n",
        "4. Make a DataFrame from the information you see as important\n",
        "5. Condense everything you did above into a function that can take a list of ICAO codes as an input, and as an output gives you a DataFrame with the information for *tomorrows arrivals*"
      ],
      "metadata": {
        "id": "q3DS1gbq3xG8"
      }
    },
    {
      "cell_type": "code",
      "source": [
        "import requests\n",
        "\n",
        "url = \"https://aerodatabox.p.rapidapi.com/flights/airports/icao/EDDB/2021-10-04T20:00/2021-10-05T08:00\"\n",
        "\n",
        "querystring = {\"withLeg\":\"true\",\"withCancelled\":\"true\",\"withCodeshared\":\"true\",\"withCargo\":\"true\",\"withPrivate\":\"true\",\"withLocation\":\"false\"}\n",
        "\n",
        "headers = {\n",
        "\t\"X-RapidAPI-Key\": \"fede0c7146msh1bb3d4ba98e89a5p1df66ajsn5f7e89b742e5\",\n",
        "\t\"X-RapidAPI-Host\": \"aerodatabox.p.rapidapi.com\"\n",
        "}\n",
        "\n",
        "response = requests.request(\"GET\", url, headers=headers, params=querystring)\n",
        "\n",
        "print(response.text)\n"
      ],
      "metadata": {
        "id": "4xFK3kVd4w5A",
        "colab": {
          "base_uri": "https://localhost:8080/"
        },
        "outputId": "da8d93f4-345c-471d-cffa-63e01c143499"
      },
      "execution_count": null,
      "outputs": [
        {
          "output_type": "stream",
          "name": "stdout",
          "text": [
            "{\"message\":\"Specified date-time '04.10.2021 20:00' should not be earlier than 7 day(s) ago. Please consider upgrading your plan.\"}\n"
          ]
        }
      ]
    },
    {
      "cell_type": "code",
      "source": [
        "import pandas as pd\n",
        "from datetime import datetime, date, timedelta\n",
        "import requests\n",
        "from pytz import timezone"
      ],
      "metadata": {
        "id": "MgwxxwaxP8dD"
      },
      "execution_count": null,
      "outputs": []
    },
    {
      "cell_type": "code",
      "source": [
        "def tomorrows_flight_arrivals(icao_list):\n",
        "\n",
        "  today = datetime.now().astimezone(timezone('Europe/Berlin')).date()\n",
        "  tomorrow = (today + timedelta(days=1))\n",
        "\n",
        "  list_for_df = []\n",
        "\n",
        "  for icao in icao_list:\n",
        "    times = [[\"00:00\",\"11:59\"],[\"12:00\",\"23:59\"]]\n",
        "\n",
        "    for time in times:\n",
        "      url = f\"https://aerodatabox.p.rapidapi.com/flights/airports/icao/{icao}/{tomorrow}T{time[0]}/{tomorrow}T{time[1]}\"\n",
        "      querystring = {\"withLeg\":\"true\",\"direction\":\"Arrival\",\"withCancelled\":\"false\",\"withCodeshared\":\"true\",\"withCargo\":\"false\",\"withPrivate\":\"false\"}\n",
        "      headers = {\n",
        "          'x-rapidapi-host': \"aerodatabox.p.rapidapi.com\",\n",
        "          'x-rapidapi-key': \"7fbdfa982amsh465aaeb96e8bac1p1d30aajsn775e582a0a36\"\n",
        "          }\n",
        "      response = requests.request(\"GET\", url, headers=headers, params=querystring)\n",
        "      flights_json = response.json()\n",
        "\n",
        "      for flight in flights_json['arrivals']:\n",
        "        flights_dict = {}\n",
        "        flights_dict['arrival_icao'] = icao\n",
        "        # .get() is another way of ensuring our code doesn't break\n",
        "        # in the previous 2 notebooks you learnt about 'if' (cities) and 'try/except' (weather)\n",
        "        # .get() works similar, it will get the text if possible, if there is no text a None value will be inserted instead\n",
        "        flights_dict['arrival_time_local'] = flight['arrival'].get('scheduledTimeLocal', None)\n",
        "        flights_dict['arrival_terminal'] = flight['arrival'].get('terminal', None)\n",
        "        flights_dict['departure_city'] = flight['departure']['airport'].get('name', None)\n",
        "        flights_dict['departure_icao'] = flight['departure']['airport'].get('icao', None)\n",
        "        flights_dict['departure_time_local'] = flight['departure'].get('scheduledTimeLocal', None)\n",
        "        flights_dict['airline'] = flight['airline'].get('name', None)\n",
        "        flights_dict['flight_number'] = flight.get('number', None)\n",
        "        flights_dict['data_retrieved_on'] = datetime.now().astimezone(timezone('Europe/Berlin')).date()\n",
        "        list_for_df.append(flights_dict)\n",
        "\n",
        "  return pd.DataFrame(list_for_df)"
      ],
      "metadata": {
        "id": "-oiE0FkLQinu"
      },
      "execution_count": null,
      "outputs": []
    },
    {
      "cell_type": "code",
      "source": [
        "icaos = ['EDDB', 'EGLL']\n",
        "tomorrows_flight_arrivals(icaos).head()"
      ],
      "metadata": {
        "colab": {
          "base_uri": "https://localhost:8080/",
          "height": 312
        },
        "id": "4xx0xW5onDDz",
        "outputId": "60fa9eb4-cc06-4fb9-ab8e-779acc044171"
      },
      "execution_count": null,
      "outputs": [
        {
          "output_type": "error",
          "ename": "KeyError",
          "evalue": "ignored",
          "traceback": [
            "\u001b[0;31m---------------------------------------------------------------------------\u001b[0m",
            "\u001b[0;31mKeyError\u001b[0m                                  Traceback (most recent call last)",
            "\u001b[0;32m<ipython-input-27-2bd11b1bbd60>\u001b[0m in \u001b[0;36m<module>\u001b[0;34m\u001b[0m\n\u001b[1;32m      1\u001b[0m \u001b[0micaos\u001b[0m \u001b[0;34m=\u001b[0m \u001b[0;34m[\u001b[0m\u001b[0;34m'EDDB'\u001b[0m\u001b[0;34m,\u001b[0m \u001b[0;34m'EGLL'\u001b[0m\u001b[0;34m]\u001b[0m\u001b[0;34m\u001b[0m\u001b[0;34m\u001b[0m\u001b[0m\n\u001b[0;32m----> 2\u001b[0;31m \u001b[0mtomorrows_flight_arrivals\u001b[0m\u001b[0;34m(\u001b[0m\u001b[0micaos\u001b[0m\u001b[0;34m)\u001b[0m\u001b[0;34m.\u001b[0m\u001b[0mhead\u001b[0m\u001b[0;34m(\u001b[0m\u001b[0;34m)\u001b[0m\u001b[0;34m\u001b[0m\u001b[0;34m\u001b[0m\u001b[0m\n\u001b[0m",
            "\u001b[0;32m<ipython-input-22-60c753808325>\u001b[0m in \u001b[0;36mtomorrows_flight_arrivals\u001b[0;34m(icao_list)\u001b[0m\n\u001b[1;32m     19\u001b[0m       \u001b[0mflights_json\u001b[0m \u001b[0;34m=\u001b[0m \u001b[0mresponse\u001b[0m\u001b[0;34m.\u001b[0m\u001b[0mjson\u001b[0m\u001b[0;34m(\u001b[0m\u001b[0;34m)\u001b[0m\u001b[0;34m\u001b[0m\u001b[0;34m\u001b[0m\u001b[0m\n\u001b[1;32m     20\u001b[0m \u001b[0;34m\u001b[0m\u001b[0m\n\u001b[0;32m---> 21\u001b[0;31m       \u001b[0;32mfor\u001b[0m \u001b[0mflight\u001b[0m \u001b[0;32min\u001b[0m \u001b[0mflights_json\u001b[0m\u001b[0;34m[\u001b[0m\u001b[0;34m'arrivals'\u001b[0m\u001b[0;34m]\u001b[0m\u001b[0;34m:\u001b[0m\u001b[0;34m\u001b[0m\u001b[0;34m\u001b[0m\u001b[0m\n\u001b[0m\u001b[1;32m     22\u001b[0m         \u001b[0mflights_dict\u001b[0m \u001b[0;34m=\u001b[0m \u001b[0;34m{\u001b[0m\u001b[0;34m}\u001b[0m\u001b[0;34m\u001b[0m\u001b[0;34m\u001b[0m\u001b[0m\n\u001b[1;32m     23\u001b[0m         \u001b[0mflights_dict\u001b[0m\u001b[0;34m[\u001b[0m\u001b[0;34m'arrival_icao'\u001b[0m\u001b[0;34m]\u001b[0m \u001b[0;34m=\u001b[0m \u001b[0micao\u001b[0m\u001b[0;34m\u001b[0m\u001b[0;34m\u001b[0m\u001b[0m\n",
            "\u001b[0;31mKeyError\u001b[0m: 'arrivals'"
          ]
        }
      ]
    }
  ],
  "metadata": {
    "colab": {
      "provenance": [],
      "collapsed_sections": []
    },
    "kernelspec": {
      "display_name": "Python 3",
      "name": "python3"
    }
  },
  "nbformat": 4,
  "nbformat_minor": 0
}